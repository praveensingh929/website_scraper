{
 "cells": [
  {
   "cell_type": "code",
   "execution_count": 1,
   "id": "5feb256a",
   "metadata": {},
   "outputs": [
    {
     "name": "stderr",
     "output_type": "stream",
     "text": [
      "<ipython-input-1-30d4930cbd55>:8: DeprecationWarning: executable_path has been deprecated, please pass in a Service object\n",
      "  driver = webdriver.Chrome(driver_path)\n"
     ]
    }
   ],
   "source": [
    "\n",
    "import csv\n",
    "import datetime\n",
    "from selenium import webdriver\n",
    "from selenium.webdriver.common.by import By\n",
    "\n",
    "# create a new Chrome browser instance\n",
    "driver_path = '/path/to/chromedriver'\n",
    "driver = webdriver.Chrome(driver_path)\n",
    "\n",
    "# navigate to the webpage you want to scrape\n",
    "url = 'https://www.theverge.com/'\n",
    "driver.get(url)\n",
    "\n",
    "# Find all the div tags with class name starting with \"max-w-content-block\"\n",
    "divs = driver.find_elements(By.CSS_SELECTOR, 'div[class^=\"max-w-content-block\"]')\n",
    "\n",
    "# Write the titles, authors, and dates to a CSV file\n",
    "now = datetime.datetime.now()\n",
    "filename = f\"{now.strftime('%d%m%Y')}_verge.csv\"\n",
    "with open(filename, 'w', newline='', encoding='utf-8') as file:\n",
    "    writer = csv.writer(file)\n",
    "    writer.writerow(['id', 'URL', 'Title', 'author', 'date'])\n",
    "    for i, div in enumerate(divs):\n",
    "        h2_tag = div.find_element(By.TAG_NAME, 'h2')\n",
    "        if h2_tag.find_element(By.TAG_NAME, 'a'):\n",
    "            title = h2_tag.find_element(By.TAG_NAME, 'a').text\n",
    "            url = h2_tag.find_element(By.TAG_NAME, 'a').get_attribute('href')\n",
    "        else:\n",
    "            title = 'Unknown'\n",
    "            url = 'Unknown'\n",
    "        author_div = div.find_elements(By.CSS_SELECTOR, 'a[href^=\"/authors/\"]')\n",
    "        if author_div:\n",
    "            author_name = author_div[0].text\n",
    "        else:\n",
    "            author_name = 'Unknown'\n",
    "        date_div = div.find_elements(By.CSS_SELECTOR, 'span[class^=\"text-gray-63\"]')\n",
    "        if date_div:\n",
    "            date = date_div[0].text\n",
    "        else:\n",
    "            date = 'Unknown'\n",
    "        writer.writerow([i+1, url, title, author_name, date])\n",
    "\n",
    "# Close the browser window\n",
    "driver.quit()\n"
   ]
  },
  {
   "cell_type": "code",
   "execution_count": 2,
   "id": "1293d94e",
   "metadata": {},
   "outputs": [
    {
     "data": {
      "text/plain": [
       "'27032023'"
      ]
     },
     "execution_count": 2,
     "metadata": {},
     "output_type": "execute_result"
    }
   ],
   "source": [
    "now.strftime('%d%m%Y')"
   ]
  },
  {
   "cell_type": "code",
   "execution_count": 3,
   "id": "6ea214ea",
   "metadata": {},
   "outputs": [],
   "source": [
    "import csv\n",
    "import sqlite3\n",
    "\n",
    "# Establish a connection to the SQLite database\n",
    "conn = sqlite3.connect('verge_article.db')\n",
    "cursor = conn.cursor()\n",
    "\n",
    "# Create a table called \"articles\" with columns for id, url, title, author, and date\n",
    "cursor.execute('''\n",
    "    CREATE TABLE articles (\n",
    "        id INTEGER PRIMARY KEY,\n",
    "        url TEXT NOT NULL,\n",
    "        title TEXT NOT NULL,\n",
    "        author TEXT NOT NULL,\n",
    "        date TEXT NOT NULL\n",
    "    )\n",
    "''')\n",
    "\n",
    "# Read the data from the CSV file and insert it into the articles table\n",
    "with open(f\"{now.strftime('%d%m%Y')}_verge.csv\", newline='', encoding='utf-8') as file:\n",
    "    reader = csv.reader(file)\n",
    "    next(reader)  # skip the header row\n",
    "    for row in reader:\n",
    "        cursor.execute('INSERT INTO articles VALUES (?, ?, ?, ?, ?)', row)\n",
    "\n",
    "# Commit the changes and close the connection\n",
    "conn.commit()\n",
    "conn.close()\n"
   ]
  },
  {
   "cell_type": "code",
   "execution_count": null,
   "id": "7a4cd5eb",
   "metadata": {},
   "outputs": [],
   "source": []
  }
 ],
 "metadata": {
  "kernelspec": {
   "display_name": "Python 3",
   "language": "python",
   "name": "python3"
  },
  "language_info": {
   "codemirror_mode": {
    "name": "ipython",
    "version": 3
   },
   "file_extension": ".py",
   "mimetype": "text/x-python",
   "name": "python",
   "nbconvert_exporter": "python",
   "pygments_lexer": "ipython3",
   "version": "3.8.8"
  }
 },
 "nbformat": 4,
 "nbformat_minor": 5
}
