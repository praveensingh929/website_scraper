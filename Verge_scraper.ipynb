{
 "cells": [
  {
   "cell_type": "code",
   "execution_count": 19,
   "id": "9573430c",
   "metadata": {},
   "outputs": [
    {
     "name": "stderr",
     "output_type": "stream",
     "text": [
      "<ipython-input-19-30d4930cbd55>:8: DeprecationWarning: executable_path has been deprecated, please pass in a Service object\n",
      "  driver = webdriver.Chrome(driver_path)\n"
     ]
    }
   ],
   "source": [
    "\n",
    "import csv\n",
    "import datetime\n",
    "from selenium import webdriver\n",
    "from selenium.webdriver.common.by import By\n",
    "\n",
    "# create a new Chrome browser instance\n",
    "driver_path = '/path/to/chromedriver'\n",
    "driver = webdriver.Chrome(driver_path)\n",
    "\n",
    "# navigate to the webpage you want to scrape\n",
    "url = 'https://www.theverge.com/'\n",
    "driver.get(url)\n",
    "\n",
    "# Find all the div tags with class name starting with \"max-w-content-block\"\n",
    "divs = driver.find_elements(By.CSS_SELECTOR, 'div[class^=\"max-w-content-block\"]')\n",
    "\n",
    "# Write the titles, authors, and dates to a CSV file\n",
    "now = datetime.datetime.now()\n",
    "filename = f\"{now.strftime('%d%m%Y')}_verge.csv\"\n",
    "with open(filename, 'w', newline='', encoding='utf-8') as file:\n",
    "    writer = csv.writer(file)\n",
    "    writer.writerow(['id', 'URL', 'Title', 'author', 'date'])\n",
    "    for i, div in enumerate(divs):\n",
    "        h2_tag = div.find_element(By.TAG_NAME, 'h2')\n",
    "        if h2_tag.find_element(By.TAG_NAME, 'a'):\n",
    "            title = h2_tag.find_element(By.TAG_NAME, 'a').text\n",
    "            url = h2_tag.find_element(By.TAG_NAME, 'a').get_attribute('href')\n",
    "        else:\n",
    "            title = 'Unknown'\n",
    "            url = 'Unknown'\n",
    "        author_div = div.find_elements(By.CSS_SELECTOR, 'a[href^=\"/authors/\"]')\n",
    "        if author_div:\n",
    "            author_name = author_div[0].text\n",
    "        else:\n",
    "            author_name = 'Unknown'\n",
    "        date_div = div.find_elements(By.CSS_SELECTOR, 'span[class^=\"text-gray-63\"]')\n",
    "        if date_div:\n",
    "            date = date_div[0].text\n",
    "        else:\n",
    "            date = 'Unknown'\n",
    "        writer.writerow([i+1, url, title, author_name, date])\n",
    "\n",
    "# Close the browser window\n",
    "driver.quit()\n"
   ]
  },
  {
   "cell_type": "code",
   "execution_count": 35,
   "id": "152903b1",
   "metadata": {},
   "outputs": [
    {
     "ename": "SyntaxError",
     "evalue": "invalid syntax (<ipython-input-35-9fd7773444e9>, line 8)",
     "output_type": "error",
     "traceback": [
      "\u001b[1;36m  File \u001b[1;32m\"<ipython-input-35-9fd7773444e9>\"\u001b[1;36m, line \u001b[1;32m8\u001b[0m\n\u001b[1;33m    Create a table called \"articles\" with columns for id, url, title, author, and date\u001b[0m\n\u001b[1;37m           ^\u001b[0m\n\u001b[1;31mSyntaxError\u001b[0m\u001b[1;31m:\u001b[0m invalid syntax\n"
     ]
    }
   ],
   "source": [
    "import csv\n",
    "import sqlite3\n",
    "\n",
    "# Establish a connection to the SQLite database\n",
    "conn = sqlite3.connect('verge_art.db')\n",
    "cursor = conn.cursor()\n",
    "\n",
    "Create a table called \"articles\" with columns for id, url, title, author, and date\n",
    "cursor.execute('''\n",
    "    CREATE TABLE articles (\n",
    "        id INTEGER PRIMARY KEY,\n",
    "        url TEXT NOT NULL,\n",
    "        title TEXT NOT NULL,\n",
    "        author TEXT NOT NULL,\n",
    "        date TEXT NOT NULL\n",
    "   )\n",
    "''')\n",
    "\n",
    "# Read the data from the CSV file and insert it into the articles table\n",
    "with open(f\"{now.strftime('%d%m%Y')}_verge.csv\", newline='', encoding='utf-8') as file:\n",
    "    reader = csv.reader(file)\n",
    "    next(reader)  # skip the header row\n",
    "    for row in reader:\n",
    "        cursor.execute('INSERT INTO articles VALUES (?, ?, ?, ?, ?)', row)\n",
    "\n",
    "# Commit the changes and close the connection\n",
    "conn.commit()\n",
    "conn.close()\n"
   ]
  },
  {
   "cell_type": "code",
   "execution_count": 20,
   "id": "431bd769",
   "metadata": {},
   "outputs": [],
   "source": [
    "# to insert into database and create unique id for them\n",
    "\n",
    "import sqlite3\n",
    "import csv\n",
    "\n",
    "# Establish a connection to the SQLite database\n",
    "conn = sqlite3.connect('verge_arti.db')\n",
    "\n",
    "# Create a table called \"articles\" with columns for id, url, title, author, and date\n",
    "cursor = conn.cursor()\n",
    "\n",
    "# Create a table called \"articles\" with columns for id, url, title, author, and date\n",
    "cursor.execute('''\n",
    "    CREATE TABLE articles (\n",
    "        id INTEGER PRIMARY KEY,\n",
    "        url TEXT NOT NULL,\n",
    "        title TEXT NOT NULL,\n",
    "        author TEXT NOT NULL,\n",
    "        date TEXT NOT NULL\n",
    "    )\n",
    "''')\n",
    "\n",
    "# Read the data from the CSV file and insert it into the database\n",
    "with open(f\"{now.strftime('%d%m%Y')}_verge.csv\", 'r', encoding='utf-8') as csvfile:\n",
    "    reader = csv.reader(csvfile)\n",
    "    next(reader) # skip header row\n",
    "    for row in reader:\n",
    "        cursor.execute('INSERT OR IGNORE INTO articles (url, title, author, date) VALUES (?, ?, ?, ?)', row[1:])\n",
    "\n",
    "# Commit the changes and close the connection\n",
    "conn.commit()\n",
    "conn.close()\n"
   ]
  },
  {
   "cell_type": "code",
   "execution_count": 33,
   "id": "34e65c2d",
   "metadata": {},
   "outputs": [],
   "source": [
    "###will insert data and check if title is already there skip that row\n",
    "\n",
    "import csv\n",
    "import sqlite3\n",
    "\n",
    "# Establish a connection to the SQLite database\n",
    "conn = sqlite3.connect('verge_arti.db')\n",
    "cursor = conn.cursor()\n",
    "\n",
    "# Read the data from the CSV file and insert it into the articles table\n",
    "with open(f\"{now.strftime('%d%m%Y')}_verge.csv\", newline='', encoding='utf-8') as file:\n",
    "    reader = csv.reader(file)\n",
    "    next(reader)  # skip the header row\n",
    "    for row in reader:\n",
    "        # Check if the title already exists in the database\n",
    "        cursor.execute('SELECT id FROM articles WHERE title = ?', (row[2],))\n",
    "        result = cursor.fetchone()\n",
    "        if result is not None:\n",
    "            # Title already exists, skip this row\n",
    "            continue\n",
    "        # Title does not exist, insert the row\n",
    "        cursor.execute('INSERT INTO articles (url, title, author, date) VALUES (?, ?, ?, ?)', (row[1], row[2], row[3], row[4]))\n",
    "\n",
    "# Commit the changes and close the connection\n",
    "conn.commit()\n",
    "conn.close()\n"
   ]
  },
  {
   "cell_type": "code",
   "execution_count": null,
   "id": "45115aa9",
   "metadata": {},
   "outputs": [],
   "source": []
  }
 ],
 "metadata": {
  "kernelspec": {
   "display_name": "Python 3",
   "language": "python",
   "name": "python3"
  },
  "language_info": {
   "codemirror_mode": {
    "name": "ipython",
    "version": 3
   },
   "file_extension": ".py",
   "mimetype": "text/x-python",
   "name": "python",
   "nbconvert_exporter": "python",
   "pygments_lexer": "ipython3",
   "version": "3.8.8"
  }
 },
 "nbformat": 4,
 "nbformat_minor": 5
}
